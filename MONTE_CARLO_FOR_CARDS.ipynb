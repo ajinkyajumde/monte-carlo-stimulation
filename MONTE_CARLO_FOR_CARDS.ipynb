{
  "nbformat": 4,
  "nbformat_minor": 0,
  "metadata": {
    "colab": {
      "name": "MONTE CARLO FOR CARDS.ipynb",
      "provenance": [],
      "collapsed_sections": [],
      "authorship_tag": "ABX9TyPc5+1abSDZIM36lDz/AYKv",
      "include_colab_link": true
    },
    "kernelspec": {
      "name": "python3",
      "display_name": "Python 3"
    },
    "language_info": {
      "name": "python"
    }
  },
  "cells": [
    {
      "cell_type": "markdown",
      "metadata": {
        "id": "view-in-github",
        "colab_type": "text"
      },
      "source": [
        "<a href=\"https://colab.research.google.com/github/ajinkyajumde/monte-carlo-stimulation/blob/main/MONTE_CARLO_FOR_CARDS.ipynb\" target=\"_parent\"><img src=\"https://colab.research.google.com/assets/colab-badge.svg\" alt=\"Open In Colab\"/></a>"
      ]
    },
    {
      "cell_type": "code",
      "source": [
        "import random"
      ],
      "metadata": {
        "id": "WrwZ-Gc_fkFH"
      },
      "execution_count": 25,
      "outputs": []
    },
    {
      "cell_type": "code",
      "execution_count": 26,
      "metadata": {
        "id": "nQGsby0HfA1R"
      },
      "outputs": [],
      "source": [
        "cards=['A','K','Q','J','2','3','4','5','6','7','8','9','10']\n",
        "samples=10000000"
      ]
    },
    {
      "cell_type": "code",
      "source": [
        "NO_OF_ACE=0\n",
        "NO_OF_FACE=0"
      ],
      "metadata": {
        "id": "BjHlB3I2f4VO"
      },
      "execution_count": 27,
      "outputs": []
    },
    {
      "cell_type": "code",
      "source": [
        "for i in range(0,samples):\n",
        "  c=random.randint(0,12)\n",
        "  if cards[c]=='A':\n",
        "    NO_OF_ACE=NO_OF_ACE+1\n",
        "  else:\n",
        "    pass\n"
      ],
      "metadata": {
        "id": "rZ5xLpMBfNhJ"
      },
      "execution_count": 28,
      "outputs": []
    },
    {
      "cell_type": "code",
      "source": [
        "PROB_OF_ACE=NO_OF_ACE/samples"
      ],
      "metadata": {
        "id": "RX2NiCUGgCY9"
      },
      "execution_count": 29,
      "outputs": []
    },
    {
      "cell_type": "code",
      "source": [
        "PROB_OF_ACE"
      ],
      "metadata": {
        "colab": {
          "base_uri": "https://localhost:8080/"
        },
        "id": "169LNfjvgTJj",
        "outputId": "c0830331-cb9b-46b0-e8b8-89631addc0ec"
      },
      "execution_count": 30,
      "outputs": [
        {
          "output_type": "execute_result",
          "data": {
            "text/plain": [
              "0.0769457"
            ]
          },
          "metadata": {},
          "execution_count": 30
        }
      ]
    },
    {
      "cell_type": "code",
      "source": [
        "for i in range(0,samples):\n",
        "  c=random.randint(0,12)\n",
        "  if cards[c]=='A' or cards[c]=='K' or cards[c]=='Q' or cards[c]=='J' :\n",
        "    NO_OF_FACE=NO_OF_FACE+1\n",
        "  else:\n",
        "    pass\n"
      ],
      "metadata": {
        "id": "Y5lsH_oEhjSf"
      },
      "execution_count": 31,
      "outputs": []
    },
    {
      "cell_type": "code",
      "source": [
        "PROB_OF_FACE=NO_OF_FACE/samples"
      ],
      "metadata": {
        "id": "AIxtW6H8hx8D"
      },
      "execution_count": 32,
      "outputs": []
    },
    {
      "cell_type": "code",
      "source": [
        "PROB_OF_FACE"
      ],
      "metadata": {
        "colab": {
          "base_uri": "https://localhost:8080/"
        },
        "id": "QPUIQjMRh5He",
        "outputId": "ead8ccd1-9d9e-47db-816e-a2ef9d2a8e3c"
      },
      "execution_count": 33,
      "outputs": [
        {
          "output_type": "execute_result",
          "data": {
            "text/plain": [
              "0.307697"
            ]
          },
          "metadata": {},
          "execution_count": 33
        }
      ]
    }
  ]
}