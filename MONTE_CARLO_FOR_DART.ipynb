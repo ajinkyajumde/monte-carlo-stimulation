{
  "nbformat": 4,
  "nbformat_minor": 0,
  "metadata": {
    "colab": {
      "name": "MONTE CARLO FOR DART.ipynb",
      "provenance": [],
      "collapsed_sections": [],
      "authorship_tag": "ABX9TyPLxtM8EHbn2Ge7IbEGLJBC",
      "include_colab_link": true
    },
    "kernelspec": {
      "name": "python3",
      "display_name": "Python 3"
    },
    "language_info": {
      "name": "python"
    }
  },
  "cells": [
    {
      "cell_type": "markdown",
      "metadata": {
        "id": "view-in-github",
        "colab_type": "text"
      },
      "source": [
        "<a href=\"https://colab.research.google.com/github/ajinkyajumde/monte-carlo-stimulation/blob/main/MONTE_CARLO_FOR_DART.ipynb\" target=\"_parent\"><img src=\"https://colab.research.google.com/assets/colab-badge.svg\" alt=\"Open In Colab\"/></a>"
      ]
    },
    {
      "cell_type": "code",
      "source": [
        "import random\n",
        "circle=0\n",
        "n=100000000"
      ],
      "metadata": {
        "id": "LTImDbnpZRN9"
      },
      "execution_count": null,
      "outputs": []
    },
    {
      "cell_type": "code",
      "execution_count": null,
      "metadata": {
        "id": "lNsUry8eYqHx"
      },
      "outputs": [],
      "source": [
        "for i in range(0,n):\n",
        "\n",
        "  x=random.random()\n",
        "  y=random.random()\n",
        "  if (x*x+y*y)<=1:\n",
        "    circle=circle+1\n",
        "  else:\n",
        "    pass"
      ]
    },
    {
      "cell_type": "code",
      "source": [
        "circle"
      ],
      "metadata": {
        "colab": {
          "base_uri": "https://localhost:8080/"
        },
        "id": "sZ3f9YRidsGa",
        "outputId": "7f776e17-8d3e-4738-b272-98f6607fc66e"
      },
      "execution_count": null,
      "outputs": [
        {
          "output_type": "execute_result",
          "data": {
            "text/plain": [
              "78534217"
            ]
          },
          "metadata": {},
          "execution_count": 21
        }
      ]
    },
    {
      "cell_type": "code",
      "source": [
        "print(circle/n)"
      ],
      "metadata": {
        "colab": {
          "base_uri": "https://localhost:8080/"
        },
        "id": "q3rGM7FIYw9S",
        "outputId": "3aacf8df-13c1-4a16-941a-8d4fa1f5370d"
      },
      "execution_count": null,
      "outputs": [
        {
          "output_type": "stream",
          "name": "stdout",
          "text": [
            "0.78534217\n"
          ]
        }
      ]
    },
    {
      "cell_type": "code",
      "source": [
        ""
      ],
      "metadata": {
        "id": "uL364-7zYxxT"
      },
      "execution_count": null,
      "outputs": []
    }
  ]
}